{
 "cells": [
  {
   "cell_type": "code",
   "execution_count": 10,
   "id": "f6594fc5",
   "metadata": {},
   "outputs": [],
   "source": [
    "import cv2"
   ]
  },
  {
   "cell_type": "code",
   "execution_count": 11,
   "id": "f9f76e5c",
   "metadata": {},
   "outputs": [],
   "source": [
    "img = cv2.imread(\"ss.jpg\")"
   ]
  },
  {
   "cell_type": "code",
   "execution_count": 12,
   "id": "a90fb038",
   "metadata": {},
   "outputs": [],
   "source": [
    "img_gray = cv2.cvtColor(img, cv2.COLOR_BGR2GRAY)"
   ]
  },
  {
   "cell_type": "code",
   "execution_count": 13,
   "id": "74fca3e0",
   "metadata": {},
   "outputs": [],
   "source": [
    "img_invert = cv2.bitwise_not(img_gray)"
   ]
  },
  {
   "cell_type": "code",
   "execution_count": 14,
   "id": "4b2c7d74",
   "metadata": {},
   "outputs": [],
   "source": [
    "img_smoothing = cv2.GaussianBlur(img_invert, (21, 21),sigmaX=0, sigmaY=0)"
   ]
  },
  {
   "cell_type": "code",
   "execution_count": 15,
   "id": "f519221c",
   "metadata": {},
   "outputs": [],
   "source": [
    "def dodgeV2(x, y):\n",
    "    return cv2.divide(x, 255 - y, scale=256)"
   ]
  },
  {
   "cell_type": "code",
   "execution_count": 16,
   "id": "9a7dfc6c",
   "metadata": {},
   "outputs": [],
   "source": [
    "final_img = dodgeV2(img_gray, img_smoothing)"
   ]
  },
  {
   "cell_type": "code",
   "execution_count": 17,
   "id": "c194d65a",
   "metadata": {},
   "outputs": [],
   "source": [
    "cv2.imshow(\"Image\", final_img)\n",
    "cv2.waitKey(0)\n",
    "cv2.destroyAllWindows()"
   ]
  },
  {
   "cell_type": "code",
   "execution_count": 18,
   "id": "1e5e2fc0",
   "metadata": {},
   "outputs": [
    {
     "data": {
      "text/plain": [
       "True"
      ]
     },
     "execution_count": 18,
     "metadata": {},
     "output_type": "execute_result"
    }
   ],
   "source": [
    "filename = 'savedImage.jpg'\n",
    "cv2.imwrite(filename, final_img)"
   ]
  },
  {
   "cell_type": "code",
   "execution_count": null,
   "id": "06b2de98",
   "metadata": {},
   "outputs": [],
   "source": []
  }
 ],
 "metadata": {
  "kernelspec": {
   "display_name": "Python 3",
   "language": "python",
   "name": "python3"
  },
  "language_info": {
   "codemirror_mode": {
    "name": "ipython",
    "version": 3
   },
   "file_extension": ".py",
   "mimetype": "text/x-python",
   "name": "python",
   "nbconvert_exporter": "python",
   "pygments_lexer": "ipython3",
   "version": "3.8.3"
  }
 },
 "nbformat": 4,
 "nbformat_minor": 5
}
